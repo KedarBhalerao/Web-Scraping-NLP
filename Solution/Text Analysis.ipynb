{
 "cells": [
  {
   "cell_type": "markdown",
   "id": "0fa1d010",
   "metadata": {},
   "source": [
    "### Importing Libraries"
   ]
  },
  {
   "cell_type": "code",
   "execution_count": 28,
   "id": "f64d61eb",
   "metadata": {},
   "outputs": [
    {
     "name": "stderr",
     "output_type": "stream",
     "text": [
      "[nltk_data] Downloading package punkt to\n",
      "[nltk_data]     C:\\Users\\Kedar\\AppData\\Roaming\\nltk_data...\n",
      "[nltk_data]   Package punkt is already up-to-date!\n"
     ]
    }
   ],
   "source": [
    "import pandas as pd\n",
    "import numpy as np\n",
    "from textblob import TextBlob \n",
    "from nltk.corpus import stopwords \n",
    "from nltk.tokenize import word_tokenize\n",
    "from nltk.tokenize import sent_tokenize\n",
    "from nltk.tokenize import RegexpTokenizer\n",
    "import re\n",
    "import nltk\n",
    "nltk.download('punkt')\n",
    "import textstat\n",
    "from textstat.textstat import textstatistics,legacy_round"
   ]
  },
  {
   "cell_type": "markdown",
   "id": "87de9ec4",
   "metadata": {},
   "source": [
    "### Reading the csv"
   ]
  },
  {
   "cell_type": "code",
   "execution_count": 2,
   "id": "653b089e",
   "metadata": {},
   "outputs": [
    {
     "data": {
      "text/html": [
       "<div>\n",
       "<style scoped>\n",
       "    .dataframe tbody tr th:only-of-type {\n",
       "        vertical-align: middle;\n",
       "    }\n",
       "\n",
       "    .dataframe tbody tr th {\n",
       "        vertical-align: top;\n",
       "    }\n",
       "\n",
       "    .dataframe thead th {\n",
       "        text-align: right;\n",
       "    }\n",
       "</style>\n",
       "<table border=\"1\" class=\"dataframe\">\n",
       "  <thead>\n",
       "    <tr style=\"text-align: right;\">\n",
       "      <th></th>\n",
       "      <th>Url_Title</th>\n",
       "      <th>Content</th>\n",
       "    </tr>\n",
       "  </thead>\n",
       "  <tbody>\n",
       "    <tr>\n",
       "      <th>0</th>\n",
       "      <td>How is Login Logout Time Tracking for Employee...</td>\n",
       "      <td>When people hear AI they often think about sen...</td>\n",
       "    </tr>\n",
       "    <tr>\n",
       "      <th>1</th>\n",
       "      <td>How does AI help to monitor Retail Shelf watch...</td>\n",
       "      <td>With increasing computing power and more data,...</td>\n",
       "    </tr>\n",
       "    <tr>\n",
       "      <th>2</th>\n",
       "      <td>AI and its impact on the Fashion Industry - Bl...</td>\n",
       "      <td>If you were a fan of the 90s film Clueless bac...</td>\n",
       "    </tr>\n",
       "    <tr>\n",
       "      <th>3</th>\n",
       "      <td>How do deep learning models predict old and ne...</td>\n",
       "      <td>Understanding exactly how data is ingested, an...</td>\n",
       "    </tr>\n",
       "    <tr>\n",
       "      <th>4</th>\n",
       "      <td>How artificial intelligence can boost your pro...</td>\n",
       "      <td>From the stone age to the modern world, from h...</td>\n",
       "    </tr>\n",
       "  </tbody>\n",
       "</table>\n",
       "</div>"
      ],
      "text/plain": [
       "                                           Url_Title  \\\n",
       "0  How is Login Logout Time Tracking for Employee...   \n",
       "1  How does AI help to monitor Retail Shelf watch...   \n",
       "2  AI and its impact on the Fashion Industry - Bl...   \n",
       "3  How do deep learning models predict old and ne...   \n",
       "4  How artificial intelligence can boost your pro...   \n",
       "\n",
       "                                             Content  \n",
       "0  When people hear AI they often think about sen...  \n",
       "1  With increasing computing power and more data,...  \n",
       "2  If you were a fan of the 90s film Clueless bac...  \n",
       "3  Understanding exactly how data is ingested, an...  \n",
       "4  From the stone age to the modern world, from h...  "
      ]
     },
     "execution_count": 2,
     "metadata": {},
     "output_type": "execute_result"
    }
   ],
   "source": [
    "df = pd.read_csv(\"Cleaned.csv\")\n",
    "df.head()"
   ]
  },
  {
   "cell_type": "code",
   "execution_count": 3,
   "id": "88bb2465",
   "metadata": {},
   "outputs": [],
   "source": [
    "df['Content']=df['Content'].str.replace(',','')"
   ]
  },
  {
   "cell_type": "code",
   "execution_count": 4,
   "id": "241037c5",
   "metadata": {},
   "outputs": [],
   "source": [
    "stopWordsFile =r'C:\\Users\\Kedar\\Desktop\\20211030 Test Assignment/StopWords_Generic.txt'\n",
    "positiveWordsFile =r'C:\\Users\\Kedar\\Desktop\\20211030 Test Assignment/PositiveWords.txt'\n",
    "nagitiveWordsFile =r'C:\\Users\\Kedar\\Desktop\\20211030 Test Assignment/NegativeWords.txt'"
   ]
  },
  {
   "cell_type": "code",
   "execution_count": 5,
   "id": "02446f87",
   "metadata": {},
   "outputs": [],
   "source": [
    "with open(stopWordsFile ,'r') as stop_words:\n",
    "    stopWords = stop_words.read().lower()\n",
    "    stopWordList = stopWords.split('\\n')\n",
    "    stopWordList[-1:] = []"
   ]
  },
  {
   "cell_type": "code",
   "execution_count": 6,
   "id": "eba60c9c",
   "metadata": {},
   "outputs": [],
   "source": [
    "def tokenizer(text):\n",
    "    text = text.lower()\n",
    "    tokenizer = RegexpTokenizer(r'\\w+')\n",
    "    tokens = tokenizer.tokenize(text)\n",
    "    filtered_words = list(filter(lambda token: token not in stopWordList, tokens))\n",
    "    return filtered_words"
   ]
  },
  {
   "cell_type": "code",
   "execution_count": 7,
   "id": "3cee88ee",
   "metadata": {},
   "outputs": [],
   "source": [
    "#Loading positive words\n",
    "with open(positiveWordsFile,'r') as posfile:\n",
    "    positivewords=posfile.read().lower()\n",
    "    positiveWordList=positivewords.split('\\n')"
   ]
  },
  {
   "cell_type": "code",
   "execution_count": 8,
   "id": "f5a63ac7",
   "metadata": {},
   "outputs": [],
   "source": [
    "#Loading negative words\n",
    "with open(nagitiveWordsFile ,'r') as negfile:\n",
    "    negativeword=negfile.read().lower()\n",
    "    negativeWordList=negativeword.split('\\n')"
   ]
  },
  {
   "cell_type": "code",
   "execution_count": 12,
   "id": "94144119",
   "metadata": {},
   "outputs": [],
   "source": [
    "def positive_score(text):\n",
    "    PosWords = 0\n",
    "    rawToken = tokenizer(text)\n",
    "    for word in rawToken:\n",
    "        if word in positiveWordList:\n",
    "            PosWords  += 1\n",
    "    \n",
    "    sumPos = PosWords\n",
    "    return sumPos"
   ]
  },
  {
   "cell_type": "code",
   "execution_count": 13,
   "id": "03dcd7af",
   "metadata": {},
   "outputs": [],
   "source": [
    "def negative_score(text):\n",
    "    NegWords=0\n",
    "    rawToken = tokenizer(text)\n",
    "    for word in rawToken:\n",
    "        if word in negativeWordList:\n",
    "            NegWords -=1\n",
    "    sumNeg = NegWords \n",
    "    sumNeg = sumNeg * -1\n",
    "    return sumNeg"
   ]
  },
  {
   "cell_type": "code",
   "execution_count": 14,
   "id": "a3b2a62d",
   "metadata": {},
   "outputs": [],
   "source": [
    "df[\"positive_score\"] = df[\"Content\"].apply(positive_score)\n",
    "df[\"negative_score\"] = df[\"Content\"].apply(negative_score)"
   ]
  },
  {
   "cell_type": "code",
   "execution_count": 15,
   "id": "75e2282e",
   "metadata": {},
   "outputs": [],
   "source": [
    "#Calculating polarity\n",
    "polarity = []\n",
    "\n",
    "for i in df[\"Content\"]:\n",
    "    polarity.append(TextBlob(i).sentiment.polarity)"
   ]
  },
  {
   "cell_type": "code",
   "execution_count": 17,
   "id": "14f76d43",
   "metadata": {},
   "outputs": [],
   "source": [
    "df[\"polarity_score\"] = polarity"
   ]
  },
  {
   "cell_type": "code",
   "execution_count": 18,
   "id": "dbf20ab9",
   "metadata": {},
   "outputs": [],
   "source": [
    "#Calculating subjectivity\n",
    "subjectivity = []\n",
    "\n",
    "for i in df[\"Content\"]:\n",
    "    subjectivity.append(TextBlob(i).sentiment.subjectivity)"
   ]
  },
  {
   "cell_type": "code",
   "execution_count": 19,
   "id": "cc781893",
   "metadata": {},
   "outputs": [],
   "source": [
    "df[\"subjectivity_score\"] = subjectivity"
   ]
  },
  {
   "cell_type": "code",
   "execution_count": 20,
   "id": "a8e4e8e7",
   "metadata": {},
   "outputs": [],
   "source": [
    "# Calculating Average sentence length \n",
    "     \n",
    "def average_sentence_length(text):\n",
    "    sentence_list = sent_tokenize(text)\n",
    "    tokens = tokenizer(text)\n",
    "    totalWordCount = len(tokens)\n",
    "    totalSentences = len(sentence_list)\n",
    "    average_sent = 0\n",
    "    if totalSentences != 0:\n",
    "        average_sent = totalWordCount / totalSentences\n",
    "    \n",
    "    average_sent_length= average_sent\n",
    "    \n",
    "    return round(average_sent_length)"
   ]
  },
  {
   "cell_type": "code",
   "execution_count": 21,
   "id": "26e8aede",
   "metadata": {},
   "outputs": [],
   "source": [
    "df[\"Average sentence length\"] = df[\"Content\"].apply(average_sentence_length)"
   ]
  },
  {
   "cell_type": "code",
   "execution_count": 23,
   "id": "c7de05b3",
   "metadata": {},
   "outputs": [],
   "source": [
    "#Calculating Percentage complex words\n",
    "def percentage_complex_word(text):\n",
    "    tokens = tokenizer(text)\n",
    "    complexWord = 0\n",
    "    complex_word_percentage = 0\n",
    "    \n",
    "    for word in tokens:\n",
    "        vowels=0\n",
    "        if word.endswith(('es','ed')):\n",
    "            pass\n",
    "        else:\n",
    "            for w in word:\n",
    "                if(w=='a' or w=='e' or w=='i' or w=='o' or w=='u'):\n",
    "                    vowels += 1\n",
    "            if(vowels > 2):\n",
    "                complexWord += 1\n",
    "    if len(tokens) != 0:\n",
    "        complex_word_percentage = complexWord/len(tokens)\n",
    "    \n",
    "    return complex_word_percentage"
   ]
  },
  {
   "cell_type": "code",
   "execution_count": 24,
   "id": "24a276d3",
   "metadata": {},
   "outputs": [],
   "source": [
    "df[\"Percentage complex words\"] = df[\"Content\"].apply(percentage_complex_word)"
   ]
  },
  {
   "cell_type": "code",
   "execution_count": 25,
   "id": "65fc35d5",
   "metadata": {},
   "outputs": [],
   "source": [
    "df[\"Percentage complex words\"] = df[\"Percentage complex words\"].astype(float)"
   ]
  },
  {
   "cell_type": "code",
   "execution_count": 26,
   "id": "3b00eaea",
   "metadata": {},
   "outputs": [],
   "source": [
    "#Calculating Fog Index\n",
    "def fog_index(average_sentence_length, percentage_complex_word):\n",
    "    fogIndex = 0.4 * (average_sentence_length + percentage_complex_word)\n",
    "    return fogIndex"
   ]
  },
  {
   "cell_type": "code",
   "execution_count": 29,
   "id": "574ae6b9",
   "metadata": {},
   "outputs": [],
   "source": [
    "df[\"Fog index\"] = np.vectorize(fog_index)(df['Average sentence length'],df['Percentage complex words'])"
   ]
  },
  {
   "cell_type": "code",
   "execution_count": 34,
   "id": "0adf85f4",
   "metadata": {},
   "outputs": [],
   "source": [
    "#Calculating Avg word per sentence\n",
    "def average_wordper_sent(text):\n",
    "    sentence_list = sent_tokenize(text)\n",
    "    tokens = tokenizer(text)\n",
    "    totalWord = len(tokens)\n",
    "    totalSent = len(sentence_list)\n",
    "    if totalSent != 0:\n",
    "        average_word_sent = totalWord / totalSent\n",
    "    \n",
    "    return round(average_word_sent)"
   ]
  },
  {
   "cell_type": "code",
   "execution_count": 35,
   "id": "fe4edb48",
   "metadata": {},
   "outputs": [],
   "source": [
    "df[\"Avg words per sentence\"] = df[\"Content\"].apply(average_wordper_sent)"
   ]
  },
  {
   "cell_type": "code",
   "execution_count": 36,
   "id": "c8ebc6f6",
   "metadata": {},
   "outputs": [],
   "source": [
    "##Calculating  complex word count\n",
    "def complex_word_count(text):\n",
    "    tokens = tokenizer(text)\n",
    "    complexWord = 0\n",
    "    \n",
    "    for word in tokens:\n",
    "        vowels=0\n",
    "        if word.endswith(('es','ed')):\n",
    "            pass\n",
    "        else:\n",
    "            for w in word:\n",
    "                if(w=='a' or w=='e' or w=='i' or w=='o' or w=='u'):\n",
    "                    vowels += 1\n",
    "            if(vowels > 2):\n",
    "                complexWord += 1\n",
    "    return complexWord"
   ]
  },
  {
   "cell_type": "code",
   "execution_count": 37,
   "id": "19d690f3",
   "metadata": {},
   "outputs": [],
   "source": [
    "df[\"Complex word count\"] = df[\"Content\"].apply(complex_word_count)"
   ]
  },
  {
   "cell_type": "code",
   "execution_count": 38,
   "id": "957f0a14",
   "metadata": {},
   "outputs": [],
   "source": [
    "#Counting total words\n",
    "def word_count(text):\n",
    "    tokens = tokenizer(text)\n",
    "    return len(tokens)"
   ]
  },
  {
   "cell_type": "code",
   "execution_count": 39,
   "id": "0df90998",
   "metadata": {},
   "outputs": [],
   "source": [
    "df[\"Word Count\"] = df[\"Content\"].apply(word_count)"
   ]
  },
  {
   "cell_type": "code",
   "execution_count": 49,
   "id": "e6c3c712",
   "metadata": {},
   "outputs": [],
   "source": [
    "#Calculating Syallable per word\n",
    "def syllables_per_word(text):\n",
    "    syllable = syllables_count(text)\n",
    "    words = word_count(text)\n",
    "    SPW = float(syllable) / float(words)\n",
    "    return legacy_round(SPW, 1)"
   ]
  },
  {
   "cell_type": "code",
   "execution_count": 50,
   "id": "7da43185",
   "metadata": {},
   "outputs": [],
   "source": [
    "df[\"Syllable per word\"] = df[\"Content\"].apply(syllables_per_word)"
   ]
  },
  {
   "cell_type": "code",
   "execution_count": 54,
   "id": "d3e819a4",
   "metadata": {},
   "outputs": [],
   "source": [
    "# Calculating Personal Pronouns \n",
    "def pronouns(text):\n",
    "    count =0\n",
    "    pro = ['I','we','my','ours','us','We','My','Ours','Us']\n",
    "    for i in text:\n",
    "        if i in pro:\n",
    "            count = count +1\n",
    "    return count"
   ]
  },
  {
   "cell_type": "code",
   "execution_count": 55,
   "id": "119c4364",
   "metadata": {},
   "outputs": [],
   "source": [
    "df[\"Personal pronoun\"] = df[\"Content\"].apply(pronouns)"
   ]
  },
  {
   "cell_type": "code",
   "execution_count": 62,
   "id": "b21a3fd5",
   "metadata": {},
   "outputs": [],
   "source": [
    "#Calculating Average word length\n",
    "def avg_word_len(text):\n",
    "    char_list = textstat.char_count(text, ignore_spaces=True)\n",
    "    tokens = tokenizer(text)\n",
    "    totalWord = len(tokens)\n",
    "    totalchar = (char_list)\n",
    "    if totalWord!= 0:\n",
    "        avg_char = totalchar / totalWord\n",
    "    \n",
    "    return round(avg_char)"
   ]
  },
  {
   "cell_type": "code",
   "execution_count": 63,
   "id": "2d2133df",
   "metadata": {},
   "outputs": [],
   "source": [
    "df[\"Average word length\"] = df['Content'].apply(avg_word_len)"
   ]
  },
  {
   "cell_type": "markdown",
   "id": "fe5a35b4",
   "metadata": {},
   "source": [
    "### Importing the Input.csv"
   ]
  },
  {
   "cell_type": "code",
   "execution_count": 66,
   "id": "1cf9d09e",
   "metadata": {},
   "outputs": [
    {
     "data": {
      "text/html": [
       "<div>\n",
       "<style scoped>\n",
       "    .dataframe tbody tr th:only-of-type {\n",
       "        vertical-align: middle;\n",
       "    }\n",
       "\n",
       "    .dataframe tbody tr th {\n",
       "        vertical-align: top;\n",
       "    }\n",
       "\n",
       "    .dataframe thead th {\n",
       "        text-align: right;\n",
       "    }\n",
       "</style>\n",
       "<table border=\"1\" class=\"dataframe\">\n",
       "  <thead>\n",
       "    <tr style=\"text-align: right;\">\n",
       "      <th></th>\n",
       "      <th>URL_ID</th>\n",
       "      <th>URL</th>\n",
       "    </tr>\n",
       "  </thead>\n",
       "  <tbody>\n",
       "    <tr>\n",
       "      <th>0</th>\n",
       "      <td>1.0</td>\n",
       "      <td>https://insights.blackcoffer.com/how-is-login-...</td>\n",
       "    </tr>\n",
       "    <tr>\n",
       "      <th>1</th>\n",
       "      <td>2.0</td>\n",
       "      <td>https://insights.blackcoffer.com/how-does-ai-h...</td>\n",
       "    </tr>\n",
       "    <tr>\n",
       "      <th>2</th>\n",
       "      <td>3.0</td>\n",
       "      <td>https://insights.blackcoffer.com/ai-and-its-im...</td>\n",
       "    </tr>\n",
       "    <tr>\n",
       "      <th>3</th>\n",
       "      <td>4.0</td>\n",
       "      <td>https://insights.blackcoffer.com/how-do-deep-l...</td>\n",
       "    </tr>\n",
       "    <tr>\n",
       "      <th>4</th>\n",
       "      <td>5.0</td>\n",
       "      <td>https://insights.blackcoffer.com/how-artificia...</td>\n",
       "    </tr>\n",
       "  </tbody>\n",
       "</table>\n",
       "</div>"
      ],
      "text/plain": [
       "   URL_ID                                                URL\n",
       "0     1.0  https://insights.blackcoffer.com/how-is-login-...\n",
       "1     2.0  https://insights.blackcoffer.com/how-does-ai-h...\n",
       "2     3.0  https://insights.blackcoffer.com/ai-and-its-im...\n",
       "3     4.0  https://insights.blackcoffer.com/how-do-deep-l...\n",
       "4     5.0  https://insights.blackcoffer.com/how-artificia..."
      ]
     },
     "execution_count": 66,
     "metadata": {},
     "output_type": "execute_result"
    }
   ],
   "source": [
    "df1 = pd.read_csv(\"Input.csv\")\n",
    "df1.head()"
   ]
  },
  {
   "cell_type": "markdown",
   "id": "ea55a10b",
   "metadata": {},
   "source": [
    "### Creating new df for final CSV"
   ]
  },
  {
   "cell_type": "code",
   "execution_count": 68,
   "id": "cdd105a7",
   "metadata": {},
   "outputs": [
    {
     "data": {
      "text/html": [
       "<div>\n",
       "<style scoped>\n",
       "    .dataframe tbody tr th:only-of-type {\n",
       "        vertical-align: middle;\n",
       "    }\n",
       "\n",
       "    .dataframe tbody tr th {\n",
       "        vertical-align: top;\n",
       "    }\n",
       "\n",
       "    .dataframe thead th {\n",
       "        text-align: right;\n",
       "    }\n",
       "</style>\n",
       "<table border=\"1\" class=\"dataframe\">\n",
       "  <thead>\n",
       "    <tr style=\"text-align: right;\">\n",
       "      <th></th>\n",
       "      <th>URL_ID</th>\n",
       "      <th>URL</th>\n",
       "      <th>Url_Title</th>\n",
       "      <th>Content</th>\n",
       "      <th>positive_score</th>\n",
       "      <th>negative_score</th>\n",
       "      <th>polarity_score</th>\n",
       "      <th>subjectivity_score</th>\n",
       "      <th>Average sentence length</th>\n",
       "      <th>Percentage complex words</th>\n",
       "      <th>Fog index</th>\n",
       "      <th>Avg words per sentence</th>\n",
       "      <th>Complex word count</th>\n",
       "      <th>Word Count</th>\n",
       "      <th>Syllable per word</th>\n",
       "      <th>Personal pronoun</th>\n",
       "      <th>Average word length</th>\n",
       "    </tr>\n",
       "  </thead>\n",
       "  <tbody>\n",
       "    <tr>\n",
       "      <th>0</th>\n",
       "      <td>1.0</td>\n",
       "      <td>https://insights.blackcoffer.com/how-is-login-...</td>\n",
       "      <td>How is Login Logout Time Tracking for Employee...</td>\n",
       "      <td>When people hear AI they often think about sen...</td>\n",
       "      <td>4</td>\n",
       "      <td>6</td>\n",
       "      <td>0.143809</td>\n",
       "      <td>0.485273</td>\n",
       "      <td>19</td>\n",
       "      <td>0.314815</td>\n",
       "      <td>7.725926</td>\n",
       "      <td>19</td>\n",
       "      <td>136</td>\n",
       "      <td>432</td>\n",
       "      <td>2.6</td>\n",
       "      <td>15</td>\n",
       "      <td>8</td>\n",
       "    </tr>\n",
       "    <tr>\n",
       "      <th>1</th>\n",
       "      <td>2.0</td>\n",
       "      <td>https://insights.blackcoffer.com/how-does-ai-h...</td>\n",
       "      <td>How does AI help to monitor Retail Shelf watch...</td>\n",
       "      <td>With increasing computing power and more data ...</td>\n",
       "      <td>9</td>\n",
       "      <td>6</td>\n",
       "      <td>0.177208</td>\n",
       "      <td>0.493776</td>\n",
       "      <td>15</td>\n",
       "      <td>0.376590</td>\n",
       "      <td>6.150636</td>\n",
       "      <td>15</td>\n",
       "      <td>148</td>\n",
       "      <td>393</td>\n",
       "      <td>2.7</td>\n",
       "      <td>11</td>\n",
       "      <td>8</td>\n",
       "    </tr>\n",
       "    <tr>\n",
       "      <th>2</th>\n",
       "      <td>3.0</td>\n",
       "      <td>https://insights.blackcoffer.com/ai-and-its-im...</td>\n",
       "      <td>AI and its impact on the Fashion Industry - Bl...</td>\n",
       "      <td>If you were a fan of the 90s film Clueless bac...</td>\n",
       "      <td>35</td>\n",
       "      <td>23</td>\n",
       "      <td>0.141999</td>\n",
       "      <td>0.542371</td>\n",
       "      <td>15</td>\n",
       "      <td>0.391652</td>\n",
       "      <td>6.156661</td>\n",
       "      <td>15</td>\n",
       "      <td>441</td>\n",
       "      <td>1126</td>\n",
       "      <td>2.6</td>\n",
       "      <td>51</td>\n",
       "      <td>8</td>\n",
       "    </tr>\n",
       "  </tbody>\n",
       "</table>\n",
       "</div>"
      ],
      "text/plain": [
       "   URL_ID                                                URL  \\\n",
       "0     1.0  https://insights.blackcoffer.com/how-is-login-...   \n",
       "1     2.0  https://insights.blackcoffer.com/how-does-ai-h...   \n",
       "2     3.0  https://insights.blackcoffer.com/ai-and-its-im...   \n",
       "\n",
       "                                           Url_Title  \\\n",
       "0  How is Login Logout Time Tracking for Employee...   \n",
       "1  How does AI help to monitor Retail Shelf watch...   \n",
       "2  AI and its impact on the Fashion Industry - Bl...   \n",
       "\n",
       "                                             Content  positive_score  \\\n",
       "0  When people hear AI they often think about sen...               4   \n",
       "1  With increasing computing power and more data ...               9   \n",
       "2  If you were a fan of the 90s film Clueless bac...              35   \n",
       "\n",
       "   negative_score  polarity_score  subjectivity_score  \\\n",
       "0               6        0.143809            0.485273   \n",
       "1               6        0.177208            0.493776   \n",
       "2              23        0.141999            0.542371   \n",
       "\n",
       "   Average sentence length  Percentage complex words  Fog index  \\\n",
       "0                       19                  0.314815   7.725926   \n",
       "1                       15                  0.376590   6.150636   \n",
       "2                       15                  0.391652   6.156661   \n",
       "\n",
       "   Avg words per sentence  Complex word count  Word Count  Syllable per word  \\\n",
       "0                      19                 136         432                2.6   \n",
       "1                      15                 148         393                2.7   \n",
       "2                      15                 441        1126                2.6   \n",
       "\n",
       "   Personal pronoun  Average word length  \n",
       "0                15                    8  \n",
       "1                11                    8  \n",
       "2                51                    8  "
      ]
     },
     "execution_count": 68,
     "metadata": {},
     "output_type": "execute_result"
    }
   ],
   "source": [
    "df3 = pd.concat([df1,df],axis = 1)\n",
    "df3.head(3)"
   ]
  },
  {
   "cell_type": "code",
   "execution_count": 69,
   "id": "55c8b8b8",
   "metadata": {},
   "outputs": [],
   "source": [
    "del df3[\"Url_Title\"]"
   ]
  },
  {
   "cell_type": "code",
   "execution_count": 70,
   "id": "cd95bf0c",
   "metadata": {},
   "outputs": [],
   "source": [
    "del df3[\"Content\"]"
   ]
  },
  {
   "cell_type": "code",
   "execution_count": 71,
   "id": "516417ef",
   "metadata": {},
   "outputs": [
    {
     "data": {
      "text/html": [
       "<div>\n",
       "<style scoped>\n",
       "    .dataframe tbody tr th:only-of-type {\n",
       "        vertical-align: middle;\n",
       "    }\n",
       "\n",
       "    .dataframe tbody tr th {\n",
       "        vertical-align: top;\n",
       "    }\n",
       "\n",
       "    .dataframe thead th {\n",
       "        text-align: right;\n",
       "    }\n",
       "</style>\n",
       "<table border=\"1\" class=\"dataframe\">\n",
       "  <thead>\n",
       "    <tr style=\"text-align: right;\">\n",
       "      <th></th>\n",
       "      <th>URL_ID</th>\n",
       "      <th>URL</th>\n",
       "      <th>positive_score</th>\n",
       "      <th>negative_score</th>\n",
       "      <th>polarity_score</th>\n",
       "      <th>subjectivity_score</th>\n",
       "      <th>Average sentence length</th>\n",
       "      <th>Percentage complex words</th>\n",
       "      <th>Fog index</th>\n",
       "      <th>Avg words per sentence</th>\n",
       "      <th>Complex word count</th>\n",
       "      <th>Word Count</th>\n",
       "      <th>Syllable per word</th>\n",
       "      <th>Personal pronoun</th>\n",
       "      <th>Average word length</th>\n",
       "    </tr>\n",
       "  </thead>\n",
       "  <tbody>\n",
       "    <tr>\n",
       "      <th>0</th>\n",
       "      <td>1.0</td>\n",
       "      <td>https://insights.blackcoffer.com/how-is-login-...</td>\n",
       "      <td>4</td>\n",
       "      <td>6</td>\n",
       "      <td>0.143809</td>\n",
       "      <td>0.485273</td>\n",
       "      <td>19</td>\n",
       "      <td>0.314815</td>\n",
       "      <td>7.725926</td>\n",
       "      <td>19</td>\n",
       "      <td>136</td>\n",
       "      <td>432</td>\n",
       "      <td>2.6</td>\n",
       "      <td>15</td>\n",
       "      <td>8</td>\n",
       "    </tr>\n",
       "    <tr>\n",
       "      <th>1</th>\n",
       "      <td>2.0</td>\n",
       "      <td>https://insights.blackcoffer.com/how-does-ai-h...</td>\n",
       "      <td>9</td>\n",
       "      <td>6</td>\n",
       "      <td>0.177208</td>\n",
       "      <td>0.493776</td>\n",
       "      <td>15</td>\n",
       "      <td>0.376590</td>\n",
       "      <td>6.150636</td>\n",
       "      <td>15</td>\n",
       "      <td>148</td>\n",
       "      <td>393</td>\n",
       "      <td>2.7</td>\n",
       "      <td>11</td>\n",
       "      <td>8</td>\n",
       "    </tr>\n",
       "    <tr>\n",
       "      <th>2</th>\n",
       "      <td>3.0</td>\n",
       "      <td>https://insights.blackcoffer.com/ai-and-its-im...</td>\n",
       "      <td>35</td>\n",
       "      <td>23</td>\n",
       "      <td>0.141999</td>\n",
       "      <td>0.542371</td>\n",
       "      <td>15</td>\n",
       "      <td>0.391652</td>\n",
       "      <td>6.156661</td>\n",
       "      <td>15</td>\n",
       "      <td>441</td>\n",
       "      <td>1126</td>\n",
       "      <td>2.6</td>\n",
       "      <td>51</td>\n",
       "      <td>8</td>\n",
       "    </tr>\n",
       "    <tr>\n",
       "      <th>3</th>\n",
       "      <td>4.0</td>\n",
       "      <td>https://insights.blackcoffer.com/how-do-deep-l...</td>\n",
       "      <td>5</td>\n",
       "      <td>1</td>\n",
       "      <td>0.077056</td>\n",
       "      <td>0.458329</td>\n",
       "      <td>18</td>\n",
       "      <td>0.441860</td>\n",
       "      <td>7.376744</td>\n",
       "      <td>18</td>\n",
       "      <td>114</td>\n",
       "      <td>258</td>\n",
       "      <td>2.8</td>\n",
       "      <td>2</td>\n",
       "      <td>9</td>\n",
       "    </tr>\n",
       "    <tr>\n",
       "      <th>4</th>\n",
       "      <td>5.0</td>\n",
       "      <td>https://insights.blackcoffer.com/how-artificia...</td>\n",
       "      <td>10</td>\n",
       "      <td>11</td>\n",
       "      <td>0.089617</td>\n",
       "      <td>0.492307</td>\n",
       "      <td>11</td>\n",
       "      <td>0.428928</td>\n",
       "      <td>4.571571</td>\n",
       "      <td>11</td>\n",
       "      <td>172</td>\n",
       "      <td>401</td>\n",
       "      <td>2.8</td>\n",
       "      <td>28</td>\n",
       "      <td>9</td>\n",
       "    </tr>\n",
       "  </tbody>\n",
       "</table>\n",
       "</div>"
      ],
      "text/plain": [
       "   URL_ID                                                URL  positive_score  \\\n",
       "0     1.0  https://insights.blackcoffer.com/how-is-login-...               4   \n",
       "1     2.0  https://insights.blackcoffer.com/how-does-ai-h...               9   \n",
       "2     3.0  https://insights.blackcoffer.com/ai-and-its-im...              35   \n",
       "3     4.0  https://insights.blackcoffer.com/how-do-deep-l...               5   \n",
       "4     5.0  https://insights.blackcoffer.com/how-artificia...              10   \n",
       "\n",
       "   negative_score  polarity_score  subjectivity_score  \\\n",
       "0               6        0.143809            0.485273   \n",
       "1               6        0.177208            0.493776   \n",
       "2              23        0.141999            0.542371   \n",
       "3               1        0.077056            0.458329   \n",
       "4              11        0.089617            0.492307   \n",
       "\n",
       "   Average sentence length  Percentage complex words  Fog index  \\\n",
       "0                       19                  0.314815   7.725926   \n",
       "1                       15                  0.376590   6.150636   \n",
       "2                       15                  0.391652   6.156661   \n",
       "3                       18                  0.441860   7.376744   \n",
       "4                       11                  0.428928   4.571571   \n",
       "\n",
       "   Avg words per sentence  Complex word count  Word Count  Syllable per word  \\\n",
       "0                      19                 136         432                2.6   \n",
       "1                      15                 148         393                2.7   \n",
       "2                      15                 441        1126                2.6   \n",
       "3                      18                 114         258                2.8   \n",
       "4                      11                 172         401                2.8   \n",
       "\n",
       "   Personal pronoun  Average word length  \n",
       "0                15                    8  \n",
       "1                11                    8  \n",
       "2                51                    8  \n",
       "3                 2                    9  \n",
       "4                28                    9  "
      ]
     },
     "execution_count": 71,
     "metadata": {},
     "output_type": "execute_result"
    }
   ],
   "source": [
    "df3.head()"
   ]
  },
  {
   "cell_type": "code",
   "execution_count": 72,
   "id": "3e8f772d",
   "metadata": {},
   "outputs": [],
   "source": [
    "df3.to_csv('TextAnalysisOutput.csv',index = None)"
   ]
  },
  {
   "cell_type": "code",
   "execution_count": null,
   "id": "5b11ef99",
   "metadata": {},
   "outputs": [],
   "source": []
  }
 ],
 "metadata": {
  "kernelspec": {
   "display_name": "Python 3 (ipykernel)",
   "language": "python",
   "name": "python3"
  },
  "language_info": {
   "codemirror_mode": {
    "name": "ipython",
    "version": 3
   },
   "file_extension": ".py",
   "mimetype": "text/x-python",
   "name": "python",
   "nbconvert_exporter": "python",
   "pygments_lexer": "ipython3",
   "version": "3.8.8"
  }
 },
 "nbformat": 4,
 "nbformat_minor": 5
}
